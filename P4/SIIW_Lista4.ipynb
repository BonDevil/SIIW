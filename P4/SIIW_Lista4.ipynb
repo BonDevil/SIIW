{
 "cells": [
  {
   "cell_type": "code",
   "execution_count": 23,
   "id": "6f355687",
   "metadata": {},
   "outputs": [],
   "source": [
    "import pandas as pd\n",
    "from sklearn.model_selection import train_test_split\n",
    "from sklearn.preprocessing import StandardScaler, MinMaxScaler, KBinsDiscretizer\n",
    "from sklearn.decomposition import PCA\n",
    "from sklearn.feature_selection import SelectKBest, chi2\n",
    "from sklearn.tree import DecisionTreeClassifier\n",
    "from sklearn.naive_bayes import GaussianNB\n",
    "from sklearn.metrics import classification_report\n",
    "import warnings\n",
    "from sklearn.exceptions import UndefinedMetricWarning\n",
    "warnings.filterwarnings(\"ignore\", category=UndefinedMetricWarning)\n",
    "\n"
   ]
  },
  {
   "cell_type": "code",
   "execution_count": 9,
   "id": "55bb5903",
   "metadata": {},
   "outputs": [],
   "source": [
    "# Wczytanie danych\n",
    "data_url = \"https://archive.ics.uci.edu/ml/machine-learning-databases/glass/glass.data\"\n",
    "column_names = [\n",
    "    \"Id\", \"RI\", \"Na\", \"Mg\", \"Al\", \"Si\", \"K\", \"Ca\", \"Ba\", \"Fe\", \"Type\"\n",
    "]\n",
    "data = pd.read_csv(data_url, names=column_names)\n",
    "data = data.drop(['Id'], axis=1)"
   ]
  },
  {
   "cell_type": "code",
   "execution_count": 10,
   "id": "c8e8399e",
   "metadata": {},
   "outputs": [
    {
     "name": "stdout",
     "output_type": "stream",
     "text": [
      "               RI          Na          Mg          Al          Si           K  \\\n",
      "count  214.000000  214.000000  214.000000  214.000000  214.000000  214.000000   \n",
      "mean     1.518365   13.407850    2.684533    1.444907   72.650935    0.497056   \n",
      "std      0.003037    0.816604    1.442408    0.499270    0.774546    0.652192   \n",
      "min      1.511150   10.730000    0.000000    0.290000   69.810000    0.000000   \n",
      "25%      1.516522   12.907500    2.115000    1.190000   72.280000    0.122500   \n",
      "50%      1.517680   13.300000    3.480000    1.360000   72.790000    0.555000   \n",
      "75%      1.519157   13.825000    3.600000    1.630000   73.087500    0.610000   \n",
      "max      1.533930   17.380000    4.490000    3.500000   75.410000    6.210000   \n",
      "\n",
      "               Ca          Ba          Fe        Type  \n",
      "count  214.000000  214.000000  214.000000  214.000000  \n",
      "mean     8.956963    0.175047    0.057009    2.780374  \n",
      "std      1.423153    0.497219    0.097439    2.103739  \n",
      "min      5.430000    0.000000    0.000000    1.000000  \n",
      "25%      8.240000    0.000000    0.000000    1.000000  \n",
      "50%      8.600000    0.000000    0.000000    2.000000  \n",
      "75%      9.172500    0.000000    0.100000    3.000000  \n",
      "max     16.190000    3.150000    0.510000    7.000000  \n"
     ]
    }
   ],
   "source": [
    "# Podstawowe statystyki\n",
    "print(data.describe())"
   ]
  },
  {
   "cell_type": "code",
   "execution_count": 11,
   "id": "1c30f06b",
   "metadata": {},
   "outputs": [
    {
     "name": "stdout",
     "output_type": "stream",
     "text": [
      "2    76\n",
      "1    70\n",
      "7    29\n",
      "3    17\n",
      "5    13\n",
      "6     9\n",
      "Name: Type, dtype: int64\n"
     ]
    }
   ],
   "source": [
    "# Liczba wystąpień każdej klasy\n",
    "print(data[\"Type\"].value_counts())"
   ]
  },
  {
   "cell_type": "code",
   "execution_count": 13,
   "id": "a37e34bf",
   "metadata": {},
   "outputs": [
    {
     "name": "stdout",
     "output_type": "stream",
     "text": [
      "<class 'pandas.core.frame.DataFrame'>\n",
      "RangeIndex: 214 entries, 0 to 213\n",
      "Data columns (total 10 columns):\n",
      " #   Column  Non-Null Count  Dtype  \n",
      "---  ------  --------------  -----  \n",
      " 0   RI      214 non-null    float64\n",
      " 1   Na      214 non-null    float64\n",
      " 2   Mg      214 non-null    float64\n",
      " 3   Al      214 non-null    float64\n",
      " 4   Si      214 non-null    float64\n",
      " 5   K       214 non-null    float64\n",
      " 6   Ca      214 non-null    float64\n",
      " 7   Ba      214 non-null    float64\n",
      " 8   Fe      214 non-null    float64\n",
      " 9   Type    214 non-null    int64  \n",
      "dtypes: float64(9), int64(1)\n",
      "memory usage: 16.8 KB\n",
      "None\n"
     ]
    }
   ],
   "source": [
    "# Informacje o typach danych\n",
    "print(data.info())"
   ]
  },
  {
   "cell_type": "code",
   "execution_count": 16,
   "id": "a561f5c1",
   "metadata": {},
   "outputs": [],
   "source": [
    "# Podział na cechy (X) i etykiety (y)\n",
    "X = data.drop(\"Type\", axis=1)\n",
    "y = data[\"Type\"]\n",
    "\n",
    "# Podział na zestaw uczący i walidacyjny\n",
    "X_train, X_val, y_train, y_val = train_test_split(X, y, test_size=0.2, random_state=39)"
   ]
  },
  {
   "cell_type": "code",
   "execution_count": 17,
   "id": "572fc4fb",
   "metadata": {},
   "outputs": [
    {
     "name": "stdout",
     "output_type": "stream",
     "text": [
      "Wyniki bez przetworzenia danych:\n",
      "              precision    recall  f1-score   support\n",
      "\n",
      "           1       0.71      0.91      0.80        11\n",
      "           2       0.64      0.50      0.56        14\n",
      "           3       0.60      1.00      0.75         3\n",
      "           5       0.50      0.25      0.33         4\n",
      "           6       1.00      0.67      0.80         3\n",
      "           7       0.89      1.00      0.94         8\n",
      "\n",
      "    accuracy                           0.72        43\n",
      "   macro avg       0.72      0.72      0.70        43\n",
      "weighted avg       0.71      0.72      0.70        43\n",
      "\n"
     ]
    }
   ],
   "source": [
    "# Porównanie wyników bez przetworzenia danych\n",
    "tree_clf = DecisionTreeClassifier(random_state=42)\n",
    "tree_clf.fit(X_train, y_train)\n",
    "y_pred = tree_clf.predict(X_val)\n",
    "print(\"Wyniki bez przetworzenia danych:\")\n",
    "print(classification_report(y_val, y_pred))"
   ]
  },
  {
   "cell_type": "code",
   "execution_count": 18,
   "id": "6ffae8aa",
   "metadata": {},
   "outputs": [],
   "source": [
    "# Przetworzenie danych - przykłady różnych metod\n",
    "scaler = StandardScaler()\n",
    "X_train_scaled = scaler.fit_transform(X_train)\n",
    "X_val_scaled = scaler.transform(X_val)\n",
    "\n",
    "discretizer = KBinsDiscretizer(n_bins=5, encode=\"ordinal\", strategy=\"uniform\")\n",
    "X_train_discretized = discretizer.fit_transform(X_train)\n",
    "X_val_discretized = discretizer.transform(X_val)\n",
    "\n",
    "pca = PCA(n_components=5)\n",
    "X_train_pca = pca.fit_transform(X_train)\n",
    "X_val_pca = pca.transform(X_val)\n",
    "\n",
    "kbest = SelectKBest(chi2, k=5)\n",
    "X_train_kbest = kbest.fit_transform(X_train, y_train)\n",
    "X_val_kbest = kbest.transform(X_val)"
   ]
  },
  {
   "cell_type": "code",
   "execution_count": 20,
   "id": "69e06bef",
   "metadata": {},
   "outputs": [
    {
     "name": "stdout",
     "output_type": "stream",
     "text": [
      "Wyniki po standaryzacji:\n",
      "              precision    recall  f1-score   support\n",
      "\n",
      "           1       0.71      0.91      0.80        11\n",
      "           2       0.64      0.50      0.56        14\n",
      "           3       0.60      1.00      0.75         3\n",
      "           5       0.50      0.25      0.33         4\n",
      "           6       1.00      0.67      0.80         3\n",
      "           7       0.89      1.00      0.94         8\n",
      "\n",
      "    accuracy                           0.72        43\n",
      "   macro avg       0.72      0.72      0.70        43\n",
      "weighted avg       0.71      0.72      0.70        43\n",
      "\n"
     ]
    }
   ],
   "source": [
    "# Porównanie wyników po przetworzeniu danych\n",
    "tree_clf_scaled = DecisionTreeClassifier(random_state=42)\n",
    "tree_clf_scaled.fit(X_train_scaled, y_train)\n",
    "y_pred_scaled = tree_clf_scaled.predict(X_val_scaled)\n",
    "print(\"Wyniki po standaryzacji:\")\n",
    "print(classification_report(y_val, y_pred_scaled))"
   ]
  },
  {
   "cell_type": "code",
   "execution_count": 25,
   "id": "4ea7b74a",
   "metadata": {},
   "outputs": [
    {
     "name": "stdout",
     "output_type": "stream",
     "text": [
      "Wyniki po dyskretyzacji:\n",
      "              precision    recall  f1-score   support\n",
      "\n",
      "           1       0.50      0.64      0.56        11\n",
      "           2       0.60      0.64      0.62        14\n",
      "           3       0.00      0.00      0.00         3\n",
      "           5       1.00      0.75      0.86         4\n",
      "           6       0.67      0.67      0.67         3\n",
      "           7       0.88      0.88      0.88         8\n",
      "\n",
      "    accuracy                           0.65        43\n",
      "   macro avg       0.61      0.60      0.60        43\n",
      "weighted avg       0.63      0.65      0.63        43\n",
      "\n"
     ]
    }
   ],
   "source": [
    "tree_clf_discretized = DecisionTreeClassifier(random_state=42)\n",
    "tree_clf_discretized.fit(X_train_discretized, y_train)\n",
    "y_pred_discretized = tree_clf_discretized.predict(X_val_discretized)\n",
    "print(\"Wyniki po dyskretyzacji:\")\n",
    "print(classification_report(y_val, y_pred_discretized))"
   ]
  },
  {
   "cell_type": "code",
   "execution_count": 27,
   "id": "fc054a4f",
   "metadata": {},
   "outputs": [
    {
     "name": "stdout",
     "output_type": "stream",
     "text": [
      "Wyniki po redukcji wymiarowości (PCA):\n",
      "              precision    recall  f1-score   support\n",
      "\n",
      "           1       0.62      0.73      0.67        11\n",
      "           2       0.78      0.50      0.61        14\n",
      "           3       0.17      0.33      0.22         3\n",
      "           5       1.00      0.75      0.86         4\n",
      "           6       0.75      1.00      0.86         3\n",
      "           7       0.88      0.88      0.88         8\n",
      "\n",
      "    accuracy                           0.67        43\n",
      "   macro avg       0.70      0.70      0.68        43\n",
      "weighted avg       0.73      0.67      0.69        43\n",
      "\n"
     ]
    }
   ],
   "source": [
    "tree_clf_pca = DecisionTreeClassifier(random_state=42)\n",
    "tree_clf_pca.fit(X_train_pca, y_train)\n",
    "y_pred_pca = tree_clf_pca.predict(X_val_pca)\n",
    "print(\"Wyniki po redukcji wymiarowości (PCA):\")\n",
    "print(classification_report(y_val, y_pred_pca))"
   ]
  },
  {
   "cell_type": "code",
   "execution_count": 29,
   "id": "27cbeb72",
   "metadata": {},
   "outputs": [
    {
     "name": "stdout",
     "output_type": "stream",
     "text": [
      "Wyniki po selekcji cech (SelectKBest):\n",
      "              precision    recall  f1-score   support\n",
      "\n",
      "           1       0.50      0.55      0.52        11\n",
      "           2       0.56      0.64      0.60        14\n",
      "           3       0.33      0.33      0.33         3\n",
      "           5       1.00      0.25      0.40         4\n",
      "           6       1.00      0.67      0.80         3\n",
      "           7       0.89      1.00      0.94         8\n",
      "\n",
      "    accuracy                           0.63        43\n",
      "   macro avg       0.71      0.57      0.60        43\n",
      "weighted avg       0.66      0.63      0.62        43\n",
      "\n"
     ]
    }
   ],
   "source": [
    "tree_clf_kbest = DecisionTreeClassifier(random_state=42)\n",
    "tree_clf_kbest.fit(X_train_kbest, y_train)\n",
    "y_pred_kbest = tree_clf_kbest.predict(X_val_kbest)\n",
    "print(\"Wyniki po selekcji cech (SelectKBest):\")\n",
    "print(classification_report(y_val, y_pred_kbest))"
   ]
  },
  {
   "cell_type": "code",
   "execution_count": 31,
   "id": "1dfed872",
   "metadata": {},
   "outputs": [
    {
     "name": "stdout",
     "output_type": "stream",
     "text": [
      "Wyniki dla naiwnego klasyfikatora Bayesa:\n",
      "              precision    recall  f1-score   support\n",
      "\n",
      "           1       0.41      0.64      0.50        11\n",
      "           2       0.43      0.21      0.29        14\n",
      "           3       0.40      0.67      0.50         3\n",
      "           5       0.50      0.25      0.33         4\n",
      "           6       1.00      1.00      1.00         3\n",
      "           7       0.89      1.00      0.94         8\n",
      "\n",
      "    accuracy                           0.56        43\n",
      "   macro avg       0.60      0.63      0.59        43\n",
      "weighted avg       0.55      0.56      0.53        43\n",
      "\n"
     ]
    }
   ],
   "source": [
    "from sklearn.model_selection import GridSearchCV\n",
    "\n",
    "# Naiwny klasyfikator Bayesa\n",
    "nb_clf = GaussianNB()\n",
    "nb_clf.fit(X_train, y_train)\n",
    "y_pred_nb = nb_clf.predict(X_val)\n",
    "print(\"Wyniki dla naiwnego klasyfikatora Bayesa:\")\n",
    "print(classification_report(y_val, y_pred_nb))"
   ]
  },
  {
   "cell_type": "code",
   "execution_count": 32,
   "id": "6ba34225",
   "metadata": {},
   "outputs": [
    {
     "name": "stdout",
     "output_type": "stream",
     "text": [
      "Wyniki dla drzewa decyzyjnego (GridSearchCV):\n",
      "              precision    recall  f1-score   support\n",
      "\n",
      "           1       0.71      0.91      0.80        11\n",
      "           2       0.71      0.71      0.71        14\n",
      "           3       0.50      0.33      0.40         3\n",
      "           5       1.00      0.75      0.86         4\n",
      "           6       1.00      0.67      0.80         3\n",
      "           7       1.00      1.00      1.00         8\n",
      "\n",
      "    accuracy                           0.79        43\n",
      "   macro avg       0.82      0.73      0.76        43\n",
      "weighted avg       0.80      0.79      0.79        43\n",
      "\n"
     ]
    }
   ],
   "source": [
    "# Drzewo decyzyjne - hiperparametry\n",
    "param_grid = {\n",
    "    \"max_depth\": [None, 5, 10],\n",
    "    \"min_samples_split\": [2, 5, 10],\n",
    "    \"min_samples_leaf\": [1, 2, 5],\n",
    "}\n",
    "\n",
    "tree_clf_grid = DecisionTreeClassifier(random_state=42)\n",
    "grid_search = GridSearchCV(tree_clf_grid, param_grid, cv=5)\n",
    "grid_search.fit(X_train, y_train)\n",
    "y_pred_grid = grid_search.predict(X_val)\n",
    "print(\"Wyniki dla drzewa decyzyjnego (GridSearchCV):\")\n",
    "print(classification_report(y_val, y_pred_grid))"
   ]
  }
 ],
 "metadata": {
  "kernelspec": {
   "display_name": "Python 3 (ipykernel)",
   "language": "python",
   "name": "python3"
  },
  "language_info": {
   "codemirror_mode": {
    "name": "ipython",
    "version": 3
   },
   "file_extension": ".py",
   "mimetype": "text/x-python",
   "name": "python",
   "nbconvert_exporter": "python",
   "pygments_lexer": "ipython3",
   "version": "3.9.12"
  }
 },
 "nbformat": 4,
 "nbformat_minor": 5
}
